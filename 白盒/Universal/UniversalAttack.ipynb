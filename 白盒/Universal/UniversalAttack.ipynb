{
 "cells": [
  {
   "cell_type": "code",
   "execution_count": null,
   "metadata": {},
   "outputs": [],
   "source": [
    "import tensorflow as tf\n",
    "import numpy as np\n",
    "from tensorflow.examples.tutorials.mnist import input_data\n",
    "from tensorflow.python.framework import graph_util\n",
    "from tensorflow.python.platform import gfile\n",
    "import os\n",
    "pb_file_path=\"tensorflow_mnist_graph.pb\"  # 模型文件\n",
    "mnist=input_data.read_data_sets('MNIST_data/',one_hot=True) # mnist 数据\n",
    "# 预测用的会话\n",
    "persisted_sess = tf.Session()\n",
    "with gfile.FastGFile(pb_file_path,'rb') as f:\n",
    "    graph_def=tf.GraphDef()\n",
    "    graph_def.ParseFromString(f.read())\n",
    "    persisted_sess.graph.as_default()\n",
    "    tf.import_graph_def(graph_def,name='')\n",
    "persisted_sess.graph.get_operations()\n",
    "# 记载输入和输出tensor\n",
    "persisted_input=persisted_sess.graph.get_tensor_by_name(\"input:0\")\n",
    "persisted_keep_prob = persisted_sess.graph.get_tensor_by_name(\"keep_prob:0\")\n",
    "persisted_output = persisted_sess.graph.get_tensor_by_name(\"output:0\")"
   ]
  },
  {
   "cell_type": "code",
   "execution_count": null,
   "metadata": {
    "collapsed": true
   },
   "outputs": [],
   "source": [
    "print('>> Computing feedforward function...')\n",
    "def f(image_inp,keep_prob=1.0):\n",
    "    return persisted_sess.run(persisted_output, \n",
    "                              feed_dict={persisted_input: image_inp,persisted_keep_prob:keep_prob})\n",
    "# 数据已经归一化\n",
    "test_x=mnist.test.images\n",
    "test_y=mnist.test.labels"
   ]
  },
  {
   "cell_type": "code",
   "execution_count": null,
   "metadata": {
    "collapsed": true
   },
   "outputs": [],
   "source": [
    "# 批量验证测试集的准确率\n",
    "from sklearn.metrics import accuracy_score\n",
    "y_pred=np.argmax(f(test_x),axis=1)\n",
    "y_true=np.argmax(test_y,axis=1)\n",
    "print(accuracy_score(y_true,y_pred,normalize=True))\n",
    "num_images=test_x.shape[0]\n",
    "fooling_rate=float(np.sum(y_pred!=y_true)/float(num_images))\n",
    "print('FOOLING RATE = ',fooling_rate)"
   ]
  },
  {
   "cell_type": "code",
   "execution_count": null,
   "metadata": {
    "collapsed": true
   },
   "outputs": [],
   "source": [
    "def jacobian(y_flat,x,inds):\n",
    "    n=10\n",
    "    loop_vars=[\n",
    "        tf.constant(0,tf.int32),\n",
    "        tf.TensorArray(tf.float32,size=n)\n",
    "    ]\n",
    "    _,jocabian=tf.while_loop(\n",
    "        lambda j,_:j<n,\n",
    "        lambda j,result:(j+1,result.write(j,tf.gradients(y_flat[inds[j]],x))),\n",
    "        loop_vars\n",
    "    )\n",
    "    return jacobian.stack()  # 提高一个维度"
   ]
  },
  {
   "cell_type": "code",
   "execution_count": null,
   "metadata": {
    "collapsed": true
   },
   "outputs": [],
   "source": [
    "def deepfool(image,f,grads,num_class=10,overshoot=0.02,max_iter=50):\n",
    "    f_image=np.array(f(image)).flatten()\n",
    "    I=(np.array(f_image)).flatten().argsort()[::-1]\n",
    "    I=I[0:num_class]\n",
    "    label=I[0]\n",
    "    input_shape=image.shape\n",
    "    pert_image=image\n",
    "    f_i=np.array(f(per_image)).flatten()\n",
    "    k_i=int(np.argmax(f_i))\n",
    "    w=np.zeros(input_shape)\n",
    "    r_tor=np.zeros(input_shape)\n",
    "    loop_i=0\n",
    "    while k_i==label and loop_i<max_iter:\n",
    "        pert=np.inf\n",
    "        gradients=np.asarray(grads(pert_image,I))\n",
    "        for k in range(1:num_class):\n",
    "            # set new w_k and new f_k\n",
    "            # w_k=gradient[k,:,:,:,:]-gradients[0,:,:,:,:]\n",
    "            w_k = gradients[k,:,:]-gradients[0,:,:]\n",
    "            f_k = f_i[I[k]]-f_i[I[0]]\n",
    "            pert_k=abs(f_k)/np.linalg.norm(w_k.flatten())\n",
    "            # determine which w_k to use\n",
    "            if pert_k<pert:\n",
    "                pert=pert_k\n",
    "                w=w_k\n",
    "        # compute r_i and r_tot\n",
    "        r_i=pert*w/np.linalg.norm(w)\n",
    "        r_tot=r_tot+r_i\n",
    "        # compute new perturbed image\n",
    "        pert_image=image+(1+overshoot)*r_tot\n",
    "        loop_i += 1\n",
    "        # compute new label\n",
    "        f_i=np.array(f(pert_image)).flatten()\n",
    "        k_i=int(np.argmax(f_i))\n",
    "    r_tot=(1+overshoot)*r_tot\n",
    "    return r_tot,loop_i,k_i,pert_image"
   ]
  },
  {
   "cell_type": "code",
   "execution_count": 4,
   "metadata": {
    "collapsed": true
   },
   "outputs": [],
   "source": [
    "def proj_lp(v,xi,p):\n",
    "    # project on the lp ball centered at 0 and of radies xi\n",
    "    # supports only p=2 and p=Inf for now\n",
    "    if p==2:\n",
    "        v=v*min(1,xi/np.linalg.norm(v.flatten(1)))\n",
    "    elif p==np.inf:\n",
    "        v=np.sign(v)*np.minimum(abs(v),xi)\n",
    "    else:\n",
    "        raise ValueError('Values of p different from 2 and Inf are currently not supported...')\n",
    "    return v\n",
    "def universal_perturbation(dataset,f,grads,delta=0.2,max_iter_uni = np.inf, xi=10, p=np.inf, num_classes=10, overshoot=0.02, max_iter_df=10):\n",
    "    v=0\n",
    "    fooling_rate=0.0\n",
    "    num_images = np.shape(dataset)[0] # The images should be stacked ALONG\n",
    "    print('X size:{}'.format(num_images))\n",
    "    itr=0\n",
    "    while fooling_rate <1-delta and itr<max_iter_uni:\n",
    "        # shuffle the dataset\n",
    "        np.random.shuffle(dataset)\n",
    "        print('Starting pass number ',itr)\n",
    "        # Go through the data set and compute the perturbation inrements\n",
    "        # sequentially\n",
    "        for k in range(0,num_images):\n",
    "            cur_img=dataset[k:(k+1),:]\n",
    "            if int(np.argmax(np.array(f(cur_img)).flatten()))==int(np.argmax(np.array(f(cur_img+v)).flatten())):\n",
    "               # Compute adversarial pertubation\n",
    "                de,iter,_,_=deepfool(cur_img + v, f, grads, num_classes=num_classes, overshoot=overshoot, max_iter=max_iter_df)\n",
    "                # make sure it converged\n",
    "                if iter<max_iter_df-1:\n",
    "                    v=v+dr\n",
    "                    # project on l_p ball\n",
    "                    v=proj_lp(v,xi,p)\n",
    "        itr=itr+1\n",
    "        # pertub the dataset with computed perturbation \n",
    "        dataset_perturbed=dataset+v\n",
    "        est_labels_pert=np.argmax(f(dataset_perturbed),axis=1)\n",
    "        est_labels_orig=np.argmax(f(dataset),axis=1)\n",
    "        # compute the fooling rate\n",
    "        fooling_rate = float(np.sum(est_labels_pert != est_labels_orig) / float(num_images))\n",
    "        print('FOOLING RATE = ', fooling_rate)\n",
    "    return v"
   ]
  },
  {
   "cell_type": "code",
   "execution_count": null,
   "metadata": {},
   "outputs": [],
   "source": [
    "X=test_x.copy()\n",
    "\n",
    "y_flat = tf.reshape(persisted_output, (-1,))\n",
    "inds = tf.placeholder(tf.int32, shape=(10,))\n",
    "dydx = jacobian(y_flat,persisted_input,inds)\n",
    "\n",
    "print('>> Computing gradient function...')\n",
    "def grad_fs(image_inp, indices,keep_prob=1.0): \n",
    "    return persisted_sess.run(dydx, feed_dict={persisted_input: image_inp, inds: indices,persisted_keep_prob:keep_prob}).squeeze(axis=1)\n",
    "\n",
    "# Running universal perturbation\n",
    "v = universal_perturbation(X, f, grad_fs, delta=0.2,num_classes=10)"
   ]
  },
  {
   "cell_type": "code",
   "execution_count": null,
   "metadata": {
    "collapsed": true
   },
   "outputs": [],
   "source": [
    "y_pred=np.argmax(f(test_x+v),axis=1)\n",
    "y_true=np.argmax(test_y,axis=1)\n",
    "\n",
    "print(accuracy_score(y_true, y_pred, normalize=True))\n",
    "\n",
    "num_images=test_x.shape[0]\n",
    "\n",
    "fooling_rate = float(np.sum(y_pred != y_true) / float(num_images))\n",
    "print('FOOLING RATE = ', fooling_rate)"
   ]
  }
 ],
 "metadata": {
  "kernelspec": {
   "display_name": "Python 3",
   "language": "python",
   "name": "python3"
  },
  "language_info": {
   "codemirror_mode": {
    "name": "ipython",
    "version": 3
   },
   "file_extension": ".py",
   "mimetype": "text/x-python",
   "name": "python",
   "nbconvert_exporter": "python",
   "pygments_lexer": "ipython3",
   "version": "3.6.2"
  }
 },
 "nbformat": 4,
 "nbformat_minor": 2
}
