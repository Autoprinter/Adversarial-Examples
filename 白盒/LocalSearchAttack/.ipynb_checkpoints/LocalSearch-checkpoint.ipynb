{
 "cells": [
  {
   "cell_type": "code",
   "execution_count": null,
   "metadata": {},
   "outputs": [],
   "source": [
    "import foolbox\n",
    "import keras\n",
    "import numpy as np\n",
    "from keras.applications.resnet50 import ResNet50,decode_predictions\n",
    "from foolbox.criteria import TargetClassProbability\n",
    "'''\n",
    "keras.backend.set_learning_pharse(0)  # train model\n",
    "keras.backend.set_learning_pharse(1)  # predict model\n",
    "之所以这么区分，是因为某些层在预测和训练时不同，比如BN和Dropout\n",
    "'''\n",
    "keras.backend.set_learning_phase(1)\n",
    "kmodel=ResNet50(weights='imagenet')\n",
    "preprocessing=(np.array([104,116,123]),1)\n",
    "fmodel=foolbox.models.KerasModel(kmodel,bounds=(0,255),preprocessing=preprocessing)\n",
    "# get source image and label\n",
    "image,label = foolbox.utils.imagenet_example()\n",
    "attack=foolbox.attacks.LocalSearchAttack(fmodel)\n",
    "adversarial = attack(image[:,:,:,-1],label)  # if the attack fails,adversarial\n",
    "# will be None and a warning will be printed\n",
    "if adversarial is not None:\n",
    "    adversarial_label=np.argmax(fmodel.predictions(adversarial))\n",
    "    print('Adversarial label={}, Original label={}'.format(adversarial_label,label))\n",
    "else:\n",
    "    print('Fail to LocalSearchAttack!')"
   ]
  },
  {
   "cell_type": "code",
   "execution_count": null,
   "metadata": {
    "collapsed": true
   },
   "outputs": [],
   "source": [
    "%matplotlip inline\n",
    "import matplotlip.pyplot as plt\n",
    "plt.figure()\n",
    "plt.subplot(131)\n",
    "plt.title('Original')\n",
    "plt.imshow(image/255) # division by 255 to convert [0,255] to [0,1]\n",
    "plt.axis('off')\n",
    "\n",
    "plt.subplot(132)\n",
    "plt.title('Adversarial')\n",
    "plt.imshow(adversarial[:,:,::-1]/255) #::-1 to convert BGR to RGB\n",
    "plt.axis('off')\n",
    "\n",
    "plt.subplot(133)\n",
    "plt.title('Difference')\n",
    "difference=adversarial[:,:,::-1]-image\n",
    "plt.image(diffenrence/abs(difference).max() *0.2+0.5)\n",
    "plt.axis('off')\n",
    "plt.show()"
   ]
  },
  {
   "cell_type": "code",
   "execution_count": null,
   "metadata": {
    "collapsed": true
   },
   "outputs": [],
   "source": [
    "print(np.where(difference!=0.0))"
   ]
  }
 ],
 "metadata": {
  "kernelspec": {
   "display_name": "Python 3",
   "language": "python",
   "name": "python3"
  },
  "language_info": {
   "codemirror_mode": {
    "name": "ipython",
    "version": 3
   },
   "file_extension": ".py",
   "mimetype": "text/x-python",
   "name": "python",
   "nbconvert_exporter": "python",
   "pygments_lexer": "ipython3",
   "version": "3.6.2"
  }
 },
 "nbformat": 4,
 "nbformat_minor": 2
}
